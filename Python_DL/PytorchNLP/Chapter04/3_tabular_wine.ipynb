{
 "cells": [
  {
   "cell_type": "code",
   "execution_count": 3,
   "metadata": {},
   "outputs": [],
   "source": [
    "import numpy as np \n",
    "import pandas as pd \n",
    "import csv \n",
    "import os \n",
    "\n",
    "import torch \n",
    "\n",
    "\n",
    "torch.set_printoptions(edgeitems=2, precision=2, linewidth=75)"
   ]
  },
  {
   "cell_type": "code",
   "execution_count": 4,
   "metadata": {},
   "outputs": [],
   "source": [
    "path = os.getcwd()\n",
    "DATA_PATH = \"/\".join(p for p in path.split(os.path.sep)[:-1]) + \"/data/p1ch4/\"\n",
    "CSV_PATH = DATA_PATH + \"tabular-wine/winequality-white.csv\""
   ]
  },
  {
   "cell_type": "code",
   "execution_count": 5,
   "metadata": {},
   "outputs": [
    {
     "output_type": "execute_result",
     "data": {
      "text/plain": "array([[ 7.  ,  0.27,  0.36, ...,  0.45,  8.8 ,  6.  ],\n       [ 6.3 ,  0.3 ,  0.34, ...,  0.49,  9.5 ,  6.  ],\n       [ 8.1 ,  0.28,  0.4 , ...,  0.44, 10.1 ,  6.  ],\n       ...,\n       [ 6.5 ,  0.24,  0.19, ...,  0.46,  9.4 ,  6.  ],\n       [ 5.5 ,  0.29,  0.3 , ...,  0.38, 12.8 ,  7.  ],\n       [ 6.  ,  0.21,  0.38, ...,  0.32, 11.8 ,  6.  ]], dtype=float32)"
     },
     "metadata": {},
     "execution_count": 5
    }
   ],
   "source": [
    "wineq_numpy = np.loadtxt(CSV_PATH, dtype=np.float32, delimiter=';', skiprows=1)\n",
    "\n",
    "wineq_numpy"
   ]
  },
  {
   "cell_type": "code",
   "execution_count": 6,
   "metadata": {},
   "outputs": [
    {
     "output_type": "execute_result",
     "data": {
      "text/plain": "((4898, 12),\n ['fixed acidity',\n  'volatile acidity',\n  'citric acid',\n  'residual sugar',\n  'chlorides',\n  'free sulfur dioxide',\n  'total sulfur dioxide',\n  'density',\n  'pH',\n  'sulphates',\n  'alcohol',\n  'quality'])"
     },
     "metadata": {},
     "execution_count": 6
    }
   ],
   "source": [
    "col_list = next(csv.reader(open(CSV_PATH), delimiter=';'))\n",
    "\n",
    "wineq_numpy.shape, col_list"
   ]
  },
  {
   "cell_type": "code",
   "execution_count": 7,
   "metadata": {},
   "outputs": [
    {
     "output_type": "execute_result",
     "data": {
      "text/plain": "tensor([[ 7.00,  0.27,  ...,  8.80,  6.00],\n        [ 6.30,  0.30,  ...,  9.50,  6.00],\n        ...,\n        [ 5.50,  0.29,  ..., 12.80,  7.00],\n        [ 6.00,  0.21,  ..., 11.80,  6.00]])"
     },
     "metadata": {},
     "execution_count": 7
    }
   ],
   "source": [
    "wineq = torch.from_numpy(wineq_numpy)\n",
    "\n",
    "wineq"
   ]
  },
  {
   "cell_type": "code",
   "execution_count": 10,
   "metadata": {},
   "outputs": [
    {
     "output_type": "execute_result",
     "data": {
      "text/plain": "(tensor([[ 7.00,  0.27,  ...,  0.45,  8.80],\n         [ 6.30,  0.30,  ...,  0.49,  9.50],\n         ...,\n         [ 5.50,  0.29,  ...,  0.38, 12.80],\n         [ 6.00,  0.21,  ...,  0.32, 11.80]]),\n torch.Size([4898, 11]))"
     },
     "metadata": {},
     "execution_count": 10
    }
   ],
   "source": [
    "data = wineq[:, :-1]\n",
    "data, data.shape"
   ]
  },
  {
   "cell_type": "code",
   "execution_count": 11,
   "metadata": {},
   "outputs": [
    {
     "output_type": "execute_result",
     "data": {
      "text/plain": "(tensor([6, 6,  ..., 7, 6]), torch.Size([4898]))"
     },
     "metadata": {},
     "execution_count": 11
    }
   ],
   "source": [
    "target = wineq[:, -1].long() # quality\n",
    "\n",
    "target, target.shape"
   ]
  },
  {
   "cell_type": "markdown",
   "metadata": {},
   "source": [
    "# When Categorize\n",
    "<img src=\"https://github.com/hoangminhtoan/2020_Projects/blob/master/Python_DL/PytorchNLP/data/images/how_to_treat_data.png\">\n"
   ]
  },
  {
   "cell_type": "code",
   "execution_count": null,
   "metadata": {},
   "outputs": [],
   "source": []
  },
  {
   "cell_type": "code",
   "execution_count": 12,
   "metadata": {},
   "outputs": [
    {
     "output_type": "execute_result",
     "data": {
      "text/plain": "(tensor([[0., 0.,  ..., 0., 0.],\n         [0., 0.,  ..., 0., 0.],\n         ...,\n         [0., 0.,  ..., 0., 0.],\n         [0., 0.,  ..., 0., 0.]]),\n torch.Size([4898, 10]))"
     },
     "metadata": {},
     "execution_count": 12
    }
   ],
   "source": [
    "target_onehot = torch.zeros(target.shape[0], 10)\n",
    "\n",
    "target_onehot.scatter_(1, target.unsqueeze(1), 1.0)\n",
    "\n",
    "target_onehot, target_onehot.shape"
   ]
  },
  {
   "cell_type": "code",
   "execution_count": 17,
   "metadata": {},
   "outputs": [
    {
     "output_type": "execute_result",
     "data": {
      "text/plain": "(tensor([6.85e+00, 2.78e-01, 3.34e-01, 6.39e+00, 4.58e-02, 3.53e+01,\n         1.38e+02, 9.94e-01, 3.19e+00, 4.90e-01, 1.05e+01]),\n torch.Size([11]))"
     },
     "metadata": {},
     "execution_count": 17
    }
   ],
   "source": [
    "data_mean = torch.mean(data, dim=0)\n",
    "\n",
    "data_mean, data_mean.shape"
   ]
  },
  {
   "cell_type": "code",
   "execution_count": 18,
   "metadata": {},
   "outputs": [
    {
     "output_type": "execute_result",
     "data": {
      "text/plain": "(tensor([7.12e-01, 1.02e-02, 1.46e-02, 2.57e+01, 4.77e-04, 2.89e+02,\n         1.81e+03, 8.95e-06, 2.28e-02, 1.30e-02, 1.51e+00]),\n torch.Size([11]))"
     },
     "metadata": {},
     "execution_count": 18
    }
   ],
   "source": [
    "data_var = torch.var(data, dim=0)\n",
    "\n",
    "data_var, data_var.shape"
   ]
  },
  {
   "cell_type": "code",
   "execution_count": null,
   "metadata": {},
   "outputs": [],
   "source": []
  }
 ],
 "metadata": {
  "language_info": {
   "codemirror_mode": {
    "name": "ipython",
    "version": 3
   },
   "file_extension": ".py",
   "mimetype": "text/x-python",
   "name": "python",
   "nbconvert_exporter": "python",
   "pygments_lexer": "ipython3",
   "version": "3.7.7-final"
  },
  "orig_nbformat": 2,
  "kernelspec": {
   "name": "python3",
   "display_name": "Python 3"
  }
 },
 "nbformat": 4,
 "nbformat_minor": 2
}