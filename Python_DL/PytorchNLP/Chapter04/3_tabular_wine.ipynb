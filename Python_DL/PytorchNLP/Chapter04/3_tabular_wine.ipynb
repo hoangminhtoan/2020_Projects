{
 "cells": [
  {
   "cell_type": "code",
   "execution_count": 3,
   "metadata": {},
   "outputs": [],
   "source": [
    "import numpy as np \n",
    "import pandas as pd \n",
    "import csv \n",
    "import os \n",
    "\n",
    "import torch \n",
    "\n",
    "\n",
    "torch.set_printoptions(edgeitems=2, precision=2, linewidth=75)"
   ]
  },
  {
   "cell_type": "code",
   "execution_count": 4,
   "metadata": {},
   "outputs": [],
   "source": [
    "path = os.getcwd()\n",
    "DATA_PATH = \"/\".join(p for p in path.split(os.path.sep)[:-1]) + \"/data/p1ch4/\"\n",
    "CSV_PATH = DATA_PATH + \"tabular-wine/winequality-white.csv\""
   ]
  },
  {
   "cell_type": "code",
   "execution_count": 5,
   "metadata": {},
   "outputs": [
    {
     "output_type": "execute_result",
     "data": {
      "text/plain": "array([[ 7.  ,  0.27,  0.36, ...,  0.45,  8.8 ,  6.  ],\n       [ 6.3 ,  0.3 ,  0.34, ...,  0.49,  9.5 ,  6.  ],\n       [ 8.1 ,  0.28,  0.4 , ...,  0.44, 10.1 ,  6.  ],\n       ...,\n       [ 6.5 ,  0.24,  0.19, ...,  0.46,  9.4 ,  6.  ],\n       [ 5.5 ,  0.29,  0.3 , ...,  0.38, 12.8 ,  7.  ],\n       [ 6.  ,  0.21,  0.38, ...,  0.32, 11.8 ,  6.  ]], dtype=float32)"
     },
     "metadata": {},
     "execution_count": 5
    }
   ],
   "source": [
    "wineq_numpy = np.loadtxt(CSV_PATH, dtype=np.float32, delimiter=';', skiprows=1)\n",
    "\n",
    "wineq_numpy"
   ]
  },
  {
   "cell_type": "code",
   "execution_count": 6,
   "metadata": {},
   "outputs": [
    {
     "output_type": "execute_result",
     "data": {
      "text/plain": "((4898, 12),\n ['fixed acidity',\n  'volatile acidity',\n  'citric acid',\n  'residual sugar',\n  'chlorides',\n  'free sulfur dioxide',\n  'total sulfur dioxide',\n  'density',\n  'pH',\n  'sulphates',\n  'alcohol',\n  'quality'])"
     },
     "metadata": {},
     "execution_count": 6
    }
   ],
   "source": [
    "col_list = next(csv.reader(open(CSV_PATH), delimiter=';'))\n",
    "\n",
    "wineq_numpy.shape, col_list"
   ]
  },
  {
   "cell_type": "code",
   "execution_count": 7,
   "metadata": {},
   "outputs": [
    {
     "output_type": "execute_result",
     "data": {
      "text/plain": "tensor([[ 7.00,  0.27,  ...,  8.80,  6.00],\n        [ 6.30,  0.30,  ...,  9.50,  6.00],\n        ...,\n        [ 5.50,  0.29,  ..., 12.80,  7.00],\n        [ 6.00,  0.21,  ..., 11.80,  6.00]])"
     },
     "metadata": {},
     "execution_count": 7
    }
   ],
   "source": [
    "wineq = torch.from_numpy(wineq_numpy)\n",
    "\n",
    "wineq"
   ]
  },
  {
   "cell_type": "code",
   "execution_count": 10,
   "metadata": {},
   "outputs": [
    {
     "output_type": "execute_result",
     "data": {
      "text/plain": "(tensor([[ 7.00,  0.27,  ...,  0.45,  8.80],\n         [ 6.30,  0.30,  ...,  0.49,  9.50],\n         ...,\n         [ 5.50,  0.29,  ...,  0.38, 12.80],\n         [ 6.00,  0.21,  ...,  0.32, 11.80]]),\n torch.Size([4898, 11]))"
     },
     "metadata": {},
     "execution_count": 10
    }
   ],
   "source": [
    "data = wineq[:, :-1]\n",
    "data, data.shape"
   ]
  },
  {
   "cell_type": "code",
   "execution_count": 11,
   "metadata": {},
   "outputs": [
    {
     "output_type": "execute_result",
     "data": {
      "text/plain": "(tensor([6, 6,  ..., 7, 6]), torch.Size([4898]))"
     },
     "metadata": {},
     "execution_count": 11
    }
   ],
   "source": [
    "target = wineq[:, -1].long() # quality\n",
    "\n",
    "target, target.shape"
   ]
  },
  {
   "cell_type": "markdown",
   "metadata": {},
   "source": [
    "# When Categorize\n",
    "<img src=\"https://github.com/hoangminhtoan/2020_Projects/blob/master/Python_DL/PytorchNLP/data/images/how_to_treat_data.png\">\n"
   ]
  },
  {
   "cell_type": "markdown",
   "metadata": {},
   "source": []
  },
  {
   "cell_type": "code",
   "execution_count": 12,
   "metadata": {},
   "outputs": [
    {
     "output_type": "execute_result",
     "data": {
      "text/plain": "(tensor([[0., 0.,  ..., 0., 0.],\n         [0., 0.,  ..., 0., 0.],\n         ...,\n         [0., 0.,  ..., 0., 0.],\n         [0., 0.,  ..., 0., 0.]]),\n torch.Size([4898, 10]))"
     },
     "metadata": {},
     "execution_count": 12
    }
   ],
   "source": [
    "target_onehot = torch.zeros(target.shape[0], 10)\n",
    "\n",
    "target_onehot.scatter_(1, target.unsqueeze(1), 1.0)\n",
    "\n",
    "target_onehot, target_onehot.shape"
   ]
  },
  {
   "cell_type": "code",
   "execution_count": 17,
   "metadata": {},
   "outputs": [
    {
     "output_type": "execute_result",
     "data": {
      "text/plain": "(tensor([6.85e+00, 2.78e-01, 3.34e-01, 6.39e+00, 4.58e-02, 3.53e+01,\n         1.38e+02, 9.94e-01, 3.19e+00, 4.90e-01, 1.05e+01]),\n torch.Size([11]))"
     },
     "metadata": {},
     "execution_count": 17
    }
   ],
   "source": [
    "data_mean = torch.mean(data, dim=0)\n",
    "\n",
    "data_mean, data_mean.shape"
   ]
  },
  {
   "cell_type": "code",
   "execution_count": 18,
   "metadata": {},
   "outputs": [
    {
     "output_type": "execute_result",
     "data": {
      "text/plain": "(tensor([7.12e-01, 1.02e-02, 1.46e-02, 2.57e+01, 4.77e-04, 2.89e+02,\n         1.81e+03, 8.95e-06, 2.28e-02, 1.30e-02, 1.51e+00]),\n torch.Size([11]))"
     },
     "metadata": {},
     "execution_count": 18
    }
   ],
   "source": [
    "data_var = torch.var(data, dim=0)\n",
    "\n",
    "data_var, data_var.shape"
   ]
  },
  {
   "cell_type": "code",
   "execution_count": 19,
   "metadata": {},
   "outputs": [
    {
     "output_type": "execute_result",
     "data": {
      "text/plain": "tensor([[ 1.72e-01, -8.18e-02,  ..., -3.49e-01, -1.39e+00],\n        [-6.57e-01,  2.16e-01,  ...,  1.35e-03, -8.24e-01],\n        ...,\n        [-1.61e+00,  1.17e-01,  ..., -9.63e-01,  1.86e+00],\n        [-1.01e+00, -6.77e-01,  ..., -1.49e+00,  1.04e+00]])"
     },
     "metadata": {},
     "execution_count": 19
    }
   ],
   "source": [
    "data_normalized = (data - data_mean) / torch.sqrt(data_var)\n",
    "\n",
    "data_normalized"
   ]
  },
  {
   "cell_type": "code",
   "execution_count": 22,
   "metadata": {},
   "outputs": [
    {
     "output_type": "execute_result",
     "data": {
      "text/plain": "(tensor([False, False,  ..., False, False]), torch.Size([4898]), tensor(20))"
     },
     "metadata": {},
     "execution_count": 22
    }
   ],
   "source": [
    "bad_indices = target <= 3  # Set a quality threshold\n",
    "bad_indices, bad_indices.shape, bad_indices.sum()"
   ]
  },
  {
   "cell_type": "markdown",
   "metadata": {},
   "source": [
    "bad_indices.sum() = tensor(20) means that only 20 of the bad_indices entries are set to True!"
   ]
  },
  {
   "cell_type": "code",
   "execution_count": 23,
   "metadata": {},
   "outputs": [
    {
     "output_type": "execute_result",
     "data": {
      "text/plain": "(tensor([[8.50e+00, 2.60e-01, 2.10e-01, 1.62e+01, 7.40e-02, 4.10e+01,\n          1.97e+02, 9.98e-01, 3.02e+00, 5.00e-01, 9.80e+00],\n         [5.80e+00, 2.40e-01, 4.40e-01, 3.50e+00, 2.90e-02, 5.00e+00,\n          1.09e+02, 9.91e-01, 3.53e+00, 4.30e-01, 1.17e+01],\n         [9.10e+00, 5.90e-01, 3.80e-01, 1.60e+00, 6.60e-02, 3.40e+01,\n          1.82e+02, 9.97e-01, 3.23e+00, 3.80e-01, 8.50e+00],\n         [7.10e+00, 3.20e-01, 3.20e-01, 1.10e+01, 3.80e-02, 1.60e+01,\n          6.60e+01, 9.94e-01, 3.24e+00, 4.00e-01, 1.15e+01],\n         [6.90e+00, 3.90e-01, 4.00e-01, 4.60e+00, 2.20e-02, 5.00e+00,\n          1.90e+01, 9.92e-01, 3.31e+00, 3.70e-01, 1.26e+01],\n         [1.03e+01, 1.70e-01, 4.70e-01, 1.40e+00, 3.70e-02, 5.00e+00,\n          3.30e+01, 9.94e-01, 2.89e+00, 2.80e-01, 9.60e+00],\n         [7.90e+00, 6.40e-01, 4.60e-01, 1.06e+01, 2.44e-01, 3.30e+01,\n          2.27e+02, 9.98e-01, 2.87e+00, 7.40e-01, 9.10e+00],\n         [8.30e+00, 3.30e-01, 4.20e-01, 1.15e+00, 3.30e-02, 1.80e+01,\n          9.60e+01, 9.91e-01, 3.20e+00, 3.20e-01, 1.24e+01],\n         [8.60e+00, 5.50e-01, 3.50e-01, 1.56e+01, 5.70e-02, 3.55e+01,\n          3.66e+02, 1.00e+00, 3.04e+00, 6.30e-01, 1.10e+01],\n         [7.50e+00, 3.20e-01, 2.40e-01, 4.60e+00, 5.30e-02, 8.00e+00,\n          1.34e+02, 9.96e-01, 3.14e+00, 5.00e-01, 9.10e+00],\n         [6.70e+00, 2.50e-01, 2.60e-01, 1.55e+00, 4.10e-02, 1.18e+02,\n          2.16e+02, 9.95e-01, 3.55e+00, 6.30e-01, 9.40e+00],\n         [7.10e+00, 4.90e-01, 2.20e-01, 2.00e+00, 4.70e-02, 1.46e+02,\n          3.08e+02, 9.92e-01, 3.24e+00, 3.70e-01, 1.10e+01],\n         [1.18e+01, 2.30e-01, 3.80e-01, 1.11e+01, 3.40e-02, 1.50e+01,\n          1.23e+02, 1.00e+00, 2.93e+00, 5.50e-01, 9.70e+00],\n         [7.60e+00, 4.80e-01, 3.70e-01, 1.20e+00, 3.40e-02, 5.00e+00,\n          5.70e+01, 9.93e-01, 3.05e+00, 5.40e-01, 1.04e+01],\n         [6.10e+00, 2.00e-01, 3.40e-01, 9.50e+00, 4.10e-02, 3.80e+01,\n          2.01e+02, 9.95e-01, 3.14e+00, 4.40e-01, 1.01e+01],\n         [4.20e+00, 2.15e-01, 2.30e-01, 5.10e+00, 4.10e-02, 6.40e+01,\n          1.57e+02, 9.97e-01, 3.42e+00, 4.40e-01, 8.00e+00],\n         [9.40e+00, 2.40e-01, 2.90e-01, 8.50e+00, 3.70e-02, 1.24e+02,\n          2.08e+02, 9.94e-01, 2.90e+00, 3.80e-01, 1.10e+01],\n         [6.20e+00, 2.30e-01, 3.50e-01, 7.00e-01, 5.10e-02, 2.40e+01,\n          1.11e+02, 9.92e-01, 3.37e+00, 4.30e-01, 1.10e+01],\n         [6.80e+00, 2.60e-01, 3.40e-01, 1.51e+01, 6.00e-02, 4.20e+01,\n          1.62e+02, 9.97e-01, 3.24e+00, 5.20e-01, 1.05e+01],\n         [6.10e+00, 2.60e-01, 2.50e-01, 2.90e+00, 4.70e-02, 2.89e+02,\n          4.40e+02, 9.93e-01, 3.44e+00, 6.40e-01, 1.05e+01]]),\n torch.Size([20, 11]))"
     },
     "metadata": {},
     "execution_count": 23
    }
   ],
   "source": [
    "bad_data = data[bad_indices]\n",
    "bad_data, bad_data.shape"
   ]
  },
  {
   "cell_type": "code",
   "execution_count": 25,
   "metadata": {
    "tags": []
   },
   "outputs": [
    {
     "output_type": "stream",
     "name": "stdout",
     "text": "0 fixed acidity          7.60   6.89   6.73\n  1 volatile acidity       0.33   0.28   0.27\n  2 citric acid            0.34   0.34   0.33\n  3 residual sugar         6.39   6.71   5.26\n  4 chlorides              0.05   0.05   0.04\n  5 free sulfur dioxide   53.33  35.42  34.55\n  6 total sulfur dioxide 170.60 141.83 125.25\n  7 density                0.99   0.99   0.99\n  8 pH                     3.19   3.18   3.22\n  9 sulphates              0.47   0.49   0.50\n 10 alcohol               10.34  10.26  11.42\n"
    }
   ],
   "source": [
    "# seperate data according to threshold\n",
    "bad_data = data[target <= 3]\n",
    "mid_data = data[(target > 3) & (target < 7)]\n",
    "good_data = data[target >= 7]\n",
    "\n",
    "bad_mean = torch.mean(bad_data, dim=0)\n",
    "mid_mean = torch.mean(mid_data, dim=0)\n",
    "good_mean = torch.mean(good_data, dim=0)\n",
    "\n",
    "for i, args in enumerate(zip(col_list, bad_mean, mid_mean, good_mean)):\n",
    "    print(\"{:3} {:20} {:6.2f} {:6.2f} {:6.2f}\".format(i, *args))"
   ]
  },
  {
   "cell_type": "markdown",
   "metadata": {},
   "source": [
    "* It looks like the bad wines seem to have higher total sulfur dioxide"
   ]
  },
  {
   "cell_type": "code",
   "execution_count": 26,
   "metadata": {},
   "outputs": [
    {
     "output_type": "execute_result",
     "data": {
      "text/plain": "(torch.Size([4898]), tensor(2727))"
     },
     "metadata": {},
     "execution_count": 26
    }
   ],
   "source": [
    "total_sulfur_threshold = 141.83\n",
    "total_sulfur_data = data[:, 6]\n",
    "\n",
    "predicted_indices = torch.lt(total_sulfur_data, total_sulfur_threshold)\n",
    "\n",
    "predicted_indices.shape, predicted_indices.sum()"
   ]
  },
  {
   "cell_type": "code",
   "execution_count": 27,
   "metadata": {},
   "outputs": [
    {
     "output_type": "execute_result",
     "data": {
      "text/plain": "(2018, 0.74000733406674, 0.6193984039287906)"
     },
     "metadata": {},
     "execution_count": 27
    }
   ],
   "source": [
    "actual_indices = target > 5\n",
    "\n",
    "n_matches = torch.sum(actual_indices & predicted_indices).item()\n",
    "n_predicted = torch.sum(predicted_indices).item()\n",
    "n_actual = torch.sum(actual_indices).item()\n",
    "\n",
    "n_matches, n_matches / n_predicted, n_matches / n_actual"
   ]
  },
  {
   "cell_type": "code",
   "execution_count": null,
   "metadata": {},
   "outputs": [],
   "source": []
  }
 ],
 "metadata": {
  "language_info": {
   "codemirror_mode": {
    "name": "ipython",
    "version": 3
   },
   "file_extension": ".py",
   "mimetype": "text/x-python",
   "name": "python",
   "nbconvert_exporter": "python",
   "pygments_lexer": "ipython3",
   "version": "3.7.7-final"
  },
  "orig_nbformat": 2,
  "kernelspec": {
   "name": "python3",
   "display_name": "Python 3"
  }
 },
 "nbformat": 4,
 "nbformat_minor": 2
}