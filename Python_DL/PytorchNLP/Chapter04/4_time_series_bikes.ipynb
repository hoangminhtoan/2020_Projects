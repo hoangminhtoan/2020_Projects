{
 "cells": [
  {
   "cell_type": "code",
   "execution_count": 1,
   "metadata": {},
   "outputs": [],
   "source": [
    "import numpy as np \n",
    "import pandas as pd \n",
    "import csv \n",
    "import os \n",
    "\n",
    "import torch \n",
    "\n",
    "\n",
    "torch.set_printoptions(edgeitems=2, precision=2, linewidth=75)"
   ]
  },
  {
   "cell_type": "code",
   "execution_count": 2,
   "metadata": {},
   "outputs": [],
   "source": [
    "path = os.getcwd()\n",
    "DATA_PATH = \"/\".join(p for p in path.split(os.path.sep)[:-1]) + \"/data/p1ch4/\"\n",
    "CSV_PATH = DATA_PATH + \"bike-sharing-dataset/hour-fixed.csv\""
   ]
  },
  {
   "cell_type": "code",
   "execution_count": 4,
   "metadata": {},
   "outputs": [
    {
     "output_type": "execute_result",
     "data": {
      "text/plain": "(tensor([[1.00e+00, 1.00e+00,  ..., 1.30e+01, 1.60e+01],\n         [2.00e+00, 1.00e+00,  ..., 3.20e+01, 4.00e+01],\n         ...,\n         [1.74e+04, 3.10e+01,  ..., 4.80e+01, 6.10e+01],\n         [1.74e+04, 3.10e+01,  ..., 3.70e+01, 4.90e+01]]),\n torch.Size([17520, 17]))"
     },
     "metadata": {},
     "execution_count": 4
    }
   ],
   "source": [
    "bikes_numpy = np.loadtxt(CSV_PATH, dtype=np.float32, delimiter=',', skiprows=1, \n",
    "                    converters={1: lambda x: float(x[8:10])})\n",
    "\n",
    "bikes = torch.from_numpy(bikes_numpy)\n",
    "bikes, bikes.shape"
   ]
  },
  {
   "cell_type": "code",
   "execution_count": 8,
   "metadata": {},
   "outputs": [
    {
     "output_type": "execute_result",
     "data": {
      "text/plain": "(torch.Size([17520, 17]), 17, (17, 1))"
     },
     "metadata": {},
     "execution_count": 8
    }
   ],
   "source": [
    "bikes.shape, bikes.shape[1], bikes.stride()"
   ]
  },
  {
   "cell_type": "code",
   "execution_count": 6,
   "metadata": {},
   "outputs": [
    {
     "output_type": "execute_result",
     "data": {
      "text/plain": "(tensor([[[1.00e+00, 1.00e+00,  ..., 1.30e+01, 1.60e+01],\n          [2.00e+00, 1.00e+00,  ..., 3.20e+01, 4.00e+01],\n          ...,\n          [2.30e+01, 1.00e+00,  ..., 1.70e+01, 2.80e+01],\n          [2.40e+01, 1.00e+00,  ..., 2.40e+01, 3.90e+01]],\n \n         [[2.50e+01, 2.00e+00,  ..., 1.30e+01, 1.70e+01],\n          [2.60e+01, 2.00e+00,  ..., 1.60e+01, 1.70e+01],\n          ...,\n          [4.60e+01, 2.00e+00,  ..., 9.00e+00, 9.00e+00],\n          [4.70e+01, 2.00e+00,  ..., 8.00e+00, 8.00e+00]],\n \n         ...,\n \n         [[1.73e+04, 3.00e+01,  ..., 4.10e+01, 4.10e+01],\n          [1.73e+04, 3.00e+01,  ..., 2.70e+01, 2.80e+01],\n          ...,\n          [1.74e+04, 3.00e+01,  ..., 3.00e+01, 3.60e+01],\n          [1.74e+04, 3.00e+01,  ..., 3.90e+01, 4.90e+01]],\n \n         [[1.74e+04, 3.10e+01,  ..., 3.00e+01, 3.40e+01],\n          [1.74e+04, 3.10e+01,  ..., 1.30e+01, 1.90e+01],\n          ...,\n          [1.74e+04, 3.10e+01,  ..., 4.80e+01, 6.10e+01],\n          [1.74e+04, 3.10e+01,  ..., 3.70e+01, 4.90e+01]]]),\n torch.Size([730, 24, 17]))"
     },
     "metadata": {},
     "execution_count": 6
    }
   ],
   "source": [
    "daily_bikes = bikes.view(-1, 24, bikes.shape[1])\n",
    "\n",
    "daily_bikes, daily_bikes.shape"
   ]
  },
  {
   "cell_type": "code",
   "execution_count": 9,
   "metadata": {},
   "outputs": [
    {
     "output_type": "execute_result",
     "data": {
      "text/plain": "(torch.Size([730, 17, 24]), (408, 1, 17))"
     },
     "metadata": {},
     "execution_count": 9
    }
   ],
   "source": [
    "daily_bikes = daily_bikes.transpose(1, 2)\n",
    "daily_bikes.shape, daily_bikes.stride()"
   ]
  },
  {
   "cell_type": "code",
   "execution_count": 11,
   "metadata": {},
   "outputs": [
    {
     "output_type": "execute_result",
     "data": {
      "text/plain": "(torch.Size([24, 17]), torch.Size([24, 4]))"
     },
     "metadata": {},
     "execution_count": 11
    }
   ],
   "source": [
    "first_day = bikes[:24].long()\n",
    "weather_onehot = torch.zeros(first_day.shape[0], 4)\n",
    "\n",
    "first_day.shape, weather_onehot.shape"
   ]
  },
  {
   "cell_type": "code",
   "execution_count": 12,
   "metadata": {},
   "outputs": [
    {
     "output_type": "execute_result",
     "data": {
      "text/plain": "tensor([1, 1, 1, 1, 1, 2, 1, 1, 1, 1, 1, 1, 1, 2, 2, 2, 2, 2, 3, 3, 2, 2,\n        2, 2])"
     },
     "metadata": {},
     "execution_count": 12
    }
   ],
   "source": [
    "first_day[:, 9]"
   ]
  },
  {
   "cell_type": "code",
   "execution_count": 13,
   "metadata": {},
   "outputs": [
    {
     "output_type": "execute_result",
     "data": {
      "text/plain": "(tensor([[1., 0., 0., 0.],\n         [1., 0., 0., 0.],\n         [1., 0., 0., 0.],\n         [1., 0., 0., 0.],\n         [1., 0., 0., 0.],\n         [0., 1., 0., 0.],\n         [1., 0., 0., 0.],\n         [1., 0., 0., 0.],\n         [1., 0., 0., 0.],\n         [1., 0., 0., 0.],\n         [1., 0., 0., 0.],\n         [1., 0., 0., 0.],\n         [1., 0., 0., 0.],\n         [0., 1., 0., 0.],\n         [0., 1., 0., 0.],\n         [0., 1., 0., 0.],\n         [0., 1., 0., 0.],\n         [0., 1., 0., 0.],\n         [0., 0., 1., 0.],\n         [0., 0., 1., 0.],\n         [0., 1., 0., 0.],\n         [0., 1., 0., 0.],\n         [0., 1., 0., 0.],\n         [0., 1., 0., 0.]]),\n torch.Size([24, 4]))"
     },
     "metadata": {},
     "execution_count": 13
    }
   ],
   "source": [
    "weather_onehot.scatter_(dim=1, index=first_day[:, 9].unsqueeze(1).long() - 1, value=1.0)\n",
    "\n",
    "weather_onehot, weather_onehot.shape"
   ]
  },
  {
   "cell_type": "code",
   "execution_count": 21,
   "metadata": {},
   "outputs": [
    {
     "output_type": "execute_result",
     "data": {
      "text/plain": "tensor([[ 1.00,  1.00,  1.00,  0.00,  1.00,  0.00,  0.00,  6.00,  0.00,\n          1.00,  0.24,  0.29,  0.81,  0.00,  3.00, 13.00, 16.00,  1.00,\n          0.00,  0.00,  0.00]])"
     },
     "metadata": {},
     "execution_count": 21
    }
   ],
   "source": [
    "torch.cat((bikes[:24], weather_onehot), dim=1)[:1]"
   ]
  },
  {
   "cell_type": "code",
   "execution_count": 22,
   "metadata": {},
   "outputs": [
    {
     "output_type": "execute_result",
     "data": {
      "text/plain": "(tensor([[[0., 0.,  ..., 0., 0.],\n          [0., 0.,  ..., 0., 0.],\n          [0., 0.,  ..., 0., 0.],\n          [0., 0.,  ..., 0., 0.]],\n \n         [[0., 0.,  ..., 0., 0.],\n          [0., 0.,  ..., 0., 0.],\n          [0., 0.,  ..., 0., 0.],\n          [0., 0.,  ..., 0., 0.]],\n \n         ...,\n \n         [[0., 0.,  ..., 0., 0.],\n          [0., 0.,  ..., 0., 0.],\n          [0., 0.,  ..., 0., 0.],\n          [0., 0.,  ..., 0., 0.]],\n \n         [[0., 0.,  ..., 0., 0.],\n          [0., 0.,  ..., 0., 0.],\n          [0., 0.,  ..., 0., 0.],\n          [0., 0.,  ..., 0., 0.]]]),\n torch.Size([730, 4, 24]))"
     },
     "metadata": {},
     "execution_count": 22
    }
   ],
   "source": [
    "daily_weather_onehot = torch.zeros(daily_bikes.shape[0], 4, daily_bikes.shape[2])\n",
    "\n",
    "daily_weather_onehot, daily_weather_onehot.shape"
   ]
  },
  {
   "cell_type": "code",
   "execution_count": 25,
   "metadata": {},
   "outputs": [
    {
     "output_type": "execute_result",
     "data": {
      "text/plain": "torch.Size([730, 4, 24])"
     },
     "metadata": {},
     "execution_count": 25
    }
   ],
   "source": [
    "daily_weather_onehot.scatter_(dim=1, index=daily_bikes[:,9,:].long().unsqueeze(1) - 1, value=1.0)\n",
    "daily_weather_onehot.shape"
   ]
  },
  {
   "cell_type": "code",
   "execution_count": 27,
   "metadata": {},
   "outputs": [
    {
     "output_type": "execute_result",
     "data": {
      "text/plain": "(tensor([[[1.00e+00, 2.00e+00,  ..., 2.30e+01, 2.40e+01],\n          [1.00e+00, 1.00e+00,  ..., 1.00e+00, 1.00e+00],\n          ...,\n          [1.30e+01, 3.20e+01,  ..., 1.70e+01, 2.40e+01],\n          [1.60e+01, 4.00e+01,  ..., 2.80e+01, 3.90e+01]],\n \n         [[2.50e+01, 2.60e+01,  ..., 4.60e+01, 4.70e+01],\n          [2.00e+00, 2.00e+00,  ..., 2.00e+00, 2.00e+00],\n          ...,\n          [1.30e+01, 1.60e+01,  ..., 9.00e+00, 8.00e+00],\n          [1.70e+01, 1.70e+01,  ..., 9.00e+00, 8.00e+00]],\n \n         ...,\n \n         [[1.73e+04, 1.73e+04,  ..., 1.74e+04, 1.74e+04],\n          [3.00e+01, 3.00e+01,  ..., 3.00e+01, 3.00e+01],\n          ...,\n          [4.10e+01, 2.70e+01,  ..., 3.00e+01, 3.90e+01],\n          [4.10e+01, 2.80e+01,  ..., 3.60e+01, 4.90e+01]],\n \n         [[1.74e+04, 1.74e+04,  ..., 1.74e+04, 1.74e+04],\n          [3.10e+01, 3.10e+01,  ..., 3.10e+01, 3.10e+01],\n          ...,\n          [3.00e+01, 1.30e+01,  ..., 4.80e+01, 3.70e+01],\n          [3.40e+01, 1.90e+01,  ..., 6.10e+01, 4.90e+01]]]),\n torch.Size([730, 17, 24]))"
     },
     "metadata": {},
     "execution_count": 27
    }
   ],
   "source": [
    "daily_bikes, daily_bikes.shape"
   ]
  },
  {
   "cell_type": "code",
   "execution_count": null,
   "metadata": {},
   "outputs": [],
   "source": []
  }
 ],
 "metadata": {
  "language_info": {
   "codemirror_mode": {
    "name": "ipython",
    "version": 3
   },
   "file_extension": ".py",
   "mimetype": "text/x-python",
   "name": "python",
   "nbconvert_exporter": "python",
   "pygments_lexer": "ipython3",
   "version": "3.7.7-final"
  },
  "orig_nbformat": 2,
  "kernelspec": {
   "name": "python3",
   "display_name": "Python 3"
  }
 },
 "nbformat": 4,
 "nbformat_minor": 2
}