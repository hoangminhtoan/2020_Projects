{
 "cells": [
  {
   "cell_type": "code",
   "execution_count": 1,
   "metadata": {},
   "outputs": [],
   "source": [
    "import numpy as np \n",
    "import pandas as pd \n",
    "import csv \n",
    "import os \n",
    "\n",
    "import torch \n",
    "\n",
    "\n",
    "torch.set_printoptions(edgeitems=2, precision=2, linewidth=75)"
   ]
  },
  {
   "cell_type": "code",
   "execution_count": 2,
   "metadata": {},
   "outputs": [],
   "source": [
    "path = os.getcwd()\n",
    "DATA_PATH = \"/\".join(p for p in path.split(os.path.sep)[:-1]) + \"/data/p1ch4/\"\n",
    "CSV_PATH = DATA_PATH + \"bike-sharing-dataset/hour-fixed.csv\""
   ]
  },
  {
   "cell_type": "code",
   "execution_count": 4,
   "metadata": {},
   "outputs": [
    {
     "output_type": "execute_result",
     "data": {
      "text/plain": "(tensor([[1.00e+00, 1.00e+00,  ..., 1.30e+01, 1.60e+01],\n         [2.00e+00, 1.00e+00,  ..., 3.20e+01, 4.00e+01],\n         ...,\n         [1.74e+04, 3.10e+01,  ..., 4.80e+01, 6.10e+01],\n         [1.74e+04, 3.10e+01,  ..., 3.70e+01, 4.90e+01]]),\n torch.Size([17520, 17]))"
     },
     "metadata": {},
     "execution_count": 4
    }
   ],
   "source": [
    "bikes_numpy = np.loadtxt(CSV_PATH, dtype=np.float32, delimiter=',', skiprows=1, \n",
    "                    converters={1: lambda x: float(x[8:10])})\n",
    "\n",
    "bikes = torch.from_numpy(bikes_numpy)\n",
    "bikes, bikes.shape"
   ]
  },
  {
   "cell_type": "code",
   "execution_count": null,
   "metadata": {},
   "outputs": [],
   "source": []
  }
 ],
 "metadata": {
  "language_info": {
   "codemirror_mode": {
    "name": "ipython",
    "version": 3
   },
   "file_extension": ".py",
   "mimetype": "text/x-python",
   "name": "python",
   "nbconvert_exporter": "python",
   "pygments_lexer": "ipython3",
   "version": "3.7.7-final"
  },
  "orig_nbformat": 2,
  "kernelspec": {
   "name": "python3",
   "display_name": "Python 3"
  }
 },
 "nbformat": 4,
 "nbformat_minor": 2
}